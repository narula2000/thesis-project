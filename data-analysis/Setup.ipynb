{
 "cells": [
  {
   "cell_type": "code",
   "execution_count": 11,
   "id": "f13b56f7",
   "metadata": {
    "ExecuteTime": {
     "end_time": "2022-04-01T06:56:56.582128Z",
     "start_time": "2022-04-01T06:56:56.570910Z"
    }
   },
   "outputs": [],
   "source": [
    "import matplotlib.pyplot as plt\n",
    "import numpy as np\n",
    "import pandas as pd\n",
    "from scipy.stats import norm\n",
    "import seaborn as sns\n",
    "import os\n",
    "\n",
    "sns.set_theme()"
   ]
  },
  {
   "cell_type": "code",
   "execution_count": 12,
   "id": "f686ad26",
   "metadata": {
    "ExecuteTime": {
     "end_time": "2022-04-01T06:56:56.593317Z",
     "start_time": "2022-04-01T06:56:56.587501Z"
    },
    "code_folding": []
   },
   "outputs": [],
   "source": [
    "csv_headers = [\n",
    "    \"new_order\", \"payment\", \n",
    "    \"order_status\", \"delivery\", \n",
    "    \"stock_level\", \"total_time\"\n",
    "]\n",
    "avg_transactions = [47, 8, 13, 261, 3, 332]\n",
    "dataframe_headers = [\"framework\", \"warehouse\", \"cpu\", \"ram\"]\n",
    "dataframe_headers.extend(csv_headers)\n",
    "path = './data/'"
   ]
  },
  {
   "cell_type": "code",
   "execution_count": 13,
   "id": "37ffd431",
   "metadata": {
    "ExecuteTime": {
     "end_time": "2022-04-01T06:56:56.603257Z",
     "start_time": "2022-04-01T06:56:56.595587Z"
    },
    "code_folding": []
   },
   "outputs": [],
   "source": [
    "def change_lang_to_framework(lang):\n",
    "    if lang == 'python':\n",
    "        return 'Django'\n",
    "    elif lang == 'js':\n",
    "        return 'ExpressJS'\n",
    "    elif lang == 'rust':\n",
    "        return 'Actix-Web'\n",
    "    else:\n",
    "        return ''\n",
    "\n",
    "def build_dataframe_by_lang():\n",
    "    rows = []\n",
    "    for fname in os.listdir(path):\n",
    "        file_df = pd.read_csv(os.path.join(path, fname))\n",
    "        _, warehouse, cpu, ram, tail = fname.split('-')\n",
    "        lang, _ = tail.split('.')\n",
    "        lang = change_lang_to_framework(lang)\n",
    "        for idx, df_row in file_df.iterrows():\n",
    "            row = []\n",
    "            row.append(lang)\n",
    "            row.append(int(warehouse[1:]))\n",
    "            row.append(int(cpu[1:]))\n",
    "            row.append(int(ram[1:]))\n",
    "            for col in csv_headers:\n",
    "                row.append(df_row[col])\n",
    "            rows.append(row)\n",
    "    return pd.DataFrame(rows, columns=dataframe_headers)\n",
    "\n",
    "\n",
    "def default_setup(dataset):\n",
    "    return dataset.loc[(dataset['cpu'] == 4) & (dataset['ram'] == 8)]\n",
    "\n",
    "\n",
    "def difference_cpu(dataset):\n",
    "    return dataset.loc[(dataset['warehouse'] == 10) & (dataset['ram'] == 8)]\n",
    "\n",
    "\n",
    "def difference_ram(dataset):\n",
    "    return dataset.loc[(dataset['warehouse'] == 10) & (dataset['cpu'] == 4)]"
   ]
  },
  {
   "cell_type": "code",
   "execution_count": 14,
   "id": "fa6f8610",
   "metadata": {
    "ExecuteTime": {
     "end_time": "2022-04-01T06:56:56.850080Z",
     "start_time": "2022-04-01T06:56:56.604632Z"
    },
    "scrolled": true
   },
   "outputs": [],
   "source": [
    "df = build_dataframe_by_lang()\n",
    "python_df = df.loc[df['framework'] == 'Django']\n",
    "js_df = df.loc[df['framework'] == 'ExpressJS']\n",
    "rust_df = df.loc[df['framework'] == 'Actix-Web']\n",
    "\n",
    "datas = [(python_df, 'Django'), (js_df, 'ExpressJS'), (rust_df, 'Actix-Web')]\n",
    "fscale = 2"
   ]
  },
  {
   "cell_type": "code",
   "execution_count": 15,
   "id": "e600f746",
   "metadata": {
    "ExecuteTime": {
     "end_time": "2022-04-01T06:56:56.863745Z",
     "start_time": "2022-04-01T06:56:56.851747Z"
    }
   },
   "outputs": [],
   "source": [
    "def describe_data(get_data):\n",
    "    for dataset, lang in datas:\n",
    "        data = get_data(dataset)\n",
    "        display(data.loc[:, csv_headers].describe().style.set_table_attributes(\n",
    "            \"style='display:inline'\").set_caption(lang))\n",
    "\n",
    "\n",
    "def plot_latency(xs, get_data):\n",
    "    for dataset, lang in datas:\n",
    "        data = get_data(dataset)\n",
    "        for transaction in csv_headers:\n",
    "            plot_data = data.loc[:, [xs, transaction]]\n",
    "            sns.set(rc={\"figure.figsize\": (15, 10)}, font_scale=fscale)\n",
    "            sns.boxplot(x=xs, y=transaction, data=plot_data).set(\n",
    "                title=f'{lang} {transaction} latency',\n",
    "                ylabel='Response Time (seconds)')\n",
    "            plt.show()\n",
    "\n",
    "\n",
    "def plot_throughput(xs, get_data):\n",
    "    for dataset, lang in datas:\n",
    "        data = get_data(dataset)\n",
    "        for idx, transaction in enumerate(csv_headers):\n",
    "            transaction_amount = avg_transactions[idx]\n",
    "            plot_data = data.loc[:, [xs, transaction]]\n",
    "            plot_data[transaction] = (transaction_amount /\n",
    "                                      plot_data[transaction])\n",
    "            sns.set(rc={\"figure.figsize\": (15, 10)}, font_scale=fscale)\n",
    "            sns.boxplot(x=xs, y=transaction, data=plot_data).set(\n",
    "                title=f'{lang} {transaction} throughput',\n",
    "                ylabel='Throughput (transaction per seconds)')\n",
    "            plt.show()\n",
    "\n",
    "\n",
    "def plot_framework_latency(xs, get_data):\n",
    "    data = get_data(df)\n",
    "    for transaction in csv_headers:\n",
    "        plot_data = data.loc[:, ['framework', xs, transaction]]\n",
    "        sns.set(rc={\"figure.figsize\": (15, 10)}, font_scale=fscale)\n",
    "        sns.boxplot(x=xs, y=transaction, hue='framework',\n",
    "                    data=plot_data).set(title=f'{transaction} latency',\n",
    "                                        ylabel='Response Time (seconds)')\n",
    "        plt.show()\n",
    "        \n",
    "def plot_framework_latency_pair_js_rust(xs, get_data):\n",
    "    data = get_data(df)\n",
    "    data = data.loc[data['framework'] != 'Django']\n",
    "    for transaction in csv_headers:\n",
    "        plot_data = data.loc[:, ['framework', xs, transaction]]\n",
    "        sns.set(rc={\"figure.figsize\": (15, 10)}, font_scale=fscale)\n",
    "        sns.boxplot(x=xs, y=transaction, hue='framework',\n",
    "                    data=plot_data).set(title=f'{transaction} latency',\n",
    "                                        ylabel='Response Time (seconds)')\n",
    "        plt.show()\n",
    "\n",
    "\n",
    "def plot_framework_throughput(xs, get_data):\n",
    "    data = get_data(df)\n",
    "    for idx, transaction in enumerate(csv_headers):\n",
    "        transaction_amount = avg_transactions[idx]\n",
    "        plot_data = data.loc[:, ['framework', xs, transaction]]\n",
    "        plot_data[transaction] = (transaction_amount / plot_data[transaction])\n",
    "        sns.set(rc={\"figure.figsize\": (15, 10)}, font_scale=fscale)\n",
    "        sns.boxplot(x=xs, y=transaction, hue='framework', data=plot_data).set(\n",
    "            title=f'{transaction} throughput',\n",
    "            ylabel='Throughput (transaction per seconds)')\n",
    "        plt.show()\n",
    "        \n",
    "def plot_framework_throughput_pair_js_rust(xs, get_data):\n",
    "    data = get_data(df)\n",
    "    data = data.loc[data['framework'] != 'Django']\n",
    "    for idx, transaction in enumerate(csv_headers):\n",
    "        transaction_amount = avg_transactions[idx]\n",
    "        plot_data = data.loc[:, ['framework', xs, transaction]]\n",
    "        plot_data[transaction] = (transaction_amount / plot_data[transaction])\n",
    "        sns.set(rc={\"figure.figsize\": (15, 10)}, font_scale=fscale)\n",
    "        sns.boxplot(x=xs, y=transaction, hue='framework', data=plot_data).set(\n",
    "            title=f'{transaction} throughput',\n",
    "            ylabel='Throughput (transaction per seconds)')\n",
    "        plt.show()"
   ]
  }
 ],
 "metadata": {
  "kernelspec": {
   "display_name": "Python 3 (ipykernel)",
   "language": "python",
   "name": "python3"
  },
  "language_info": {
   "codemirror_mode": {
    "name": "ipython",
    "version": 3
   },
   "file_extension": ".py",
   "mimetype": "text/x-python",
   "name": "python",
   "nbconvert_exporter": "python",
   "pygments_lexer": "ipython3",
   "version": "3.10.4"
  },
  "toc": {
   "base_numbering": 1,
   "nav_menu": {},
   "number_sections": true,
   "sideBar": true,
   "skip_h1_title": false,
   "title_cell": "Table of Contents",
   "title_sidebar": "Contents",
   "toc_cell": false,
   "toc_position": {},
   "toc_section_display": true,
   "toc_window_display": false
  }
 },
 "nbformat": 4,
 "nbformat_minor": 5
}
